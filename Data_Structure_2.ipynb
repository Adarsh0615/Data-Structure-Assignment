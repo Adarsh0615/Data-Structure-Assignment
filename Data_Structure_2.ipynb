{
  "nbformat": 4,
  "nbformat_minor": 0,
  "metadata": {
    "colab": {
      "provenance": [],
      "toc_visible": true
    },
    "kernelspec": {
      "name": "python3",
      "display_name": "Python 3"
    },
    "language_info": {
      "name": "python"
    }
  },
  "cells": [
    {
      "cell_type": "code",
      "execution_count": 1,
      "metadata": {
        "id": "l3OLXSGJXzyj"
      },
      "outputs": [],
      "source": []
    },
    {
      "cell_type": "markdown",
      "source": [
        "##Data Structure Theory"
      ],
      "metadata": {
        "id": "5YnIzPjYYRvE"
      }
    },
    {
      "cell_type": "markdown",
      "source": [
        "1. What are data structures, and why are they important4\n",
        "\n",
        "Ans:- Data structures are ways to organize and store data efficiently for easy access, retrieval, and manipulation. They are important because they allow for optimized solutions in programming, helping solve problems effectively with minimal time and space complexity."
      ],
      "metadata": {
        "id": "J2d-QtxuYpay"
      }
    },
    {
      "cell_type": "markdown",
      "source": [
        "2.  Explain the difference between mutable and immutable data types with examples?\n",
        "\n",
        "Ans :-\n",
        "- Mutable: Objects whose values can be changed after creation. Examples: lists, dictionaries, and sets.\n",
        "       \n",
        "-   Immutable: Objects whose values cannot be changed. Examples: strings, tuples, and integers.\n",
        "Example:"
      ],
      "metadata": {
        "id": "P1QxeeOLZRpS"
      }
    },
    {
      "cell_type": "code",
      "source": [
        "- mutable_list = [1, 2, 3]\n",
        "mutable_list[0] = 100  # Allowed\n",
        "immutable_tuple = (1, 2, 3)\n",
        "immutable_tuple[0] = 100  # Error: Immutable\n"
      ],
      "metadata": {
        "colab": {
          "base_uri": "https://localhost:8080/",
          "height": 106
        },
        "id": "r4IxodXPcYJR",
        "outputId": "9762357b-a093-4759-e95b-f2198053ad35"
      },
      "execution_count": 5,
      "outputs": [
        {
          "output_type": "error",
          "ename": "SyntaxError",
          "evalue": "cannot assign to expression here. Maybe you meant '==' instead of '='? (<ipython-input-5-a644d6aa8232>, line 1)",
          "traceback": [
            "\u001b[0;36m  File \u001b[0;32m\"<ipython-input-5-a644d6aa8232>\"\u001b[0;36m, line \u001b[0;32m1\u001b[0m\n\u001b[0;31m    - mutable_list = [1, 2, 3]\u001b[0m\n\u001b[0m    ^\u001b[0m\n\u001b[0;31mSyntaxError\u001b[0m\u001b[0;31m:\u001b[0m cannot assign to expression here. Maybe you meant '==' instead of '='?\n"
          ]
        }
      ]
    },
    {
      "cell_type": "markdown",
      "source": [
        "3. What are the main differences between lists and tuples in Python?\n",
        "\n",
        "Ans :- **Differences Between Lists and Tuples in Python:**\n",
        "\n",
        "- **Mutability**:\n",
        "   - **Lists** are **mutable**, meaning their elements can be changed after creation (e.g., adding, removing, or modifying elements).\n",
        "   - **Tuples** are **immutable**, meaning once they are created, their elements cannot be changed.\n",
        "\n",
        "   Example:\n",
        "   ```python\n",
        "   lst = [1, 2, 3]\n",
        "   lst[0] = 10  # Allowed, as lists are mutable\n",
        "   print(lst)  # Output: [10, 2, 3]\n",
        "   \n",
        "   tup = (1, 2, 3)\n",
        "   # tup[0] = 10  # This would raise an error because tuples are immutable\n",
        "   ```\n",
        "\n",
        "- **Syntax**:\n",
        "   - **Lists** are defined using square brackets `[]`.\n",
        "   - **Tuples** are defined using parentheses `()`.\n",
        "\n",
        "   Example:\n",
        "   ```python\n",
        "   lst = [1, 2, 3]\n",
        "   tup = (1, 2, 3)\n",
        "   ```\n",
        "\n",
        "- **Performance**:\n",
        "   - **Tuples** are generally faster than **lists** for iteration and access because they are immutable, which allows for optimizations in memory and performance.\n",
        "   - **Lists**, being mutable, incur more overhead for managing changes to their data.\n",
        "\n",
        "- **Use Cases**:\n",
        "   - **Lists** are suitable when you need to store collections of items that may change over time.\n",
        "   - **Tuples** are ideal for fixed collections of data that should not be modified, ensuring data integrity.\n",
        "\n",
        "- **Methods**:\n",
        "   - **Lists** have more built-in methods (e.g., `append()`, `remove()`, `extend()`, etc.) due to their mutability.\n",
        "   - **Tuples** have fewer methods, mostly limited to `count()` and `index()`, reflecting their immutable nature.\n",
        "\n",
        "**In summary**, lists are mutable, defined with square brackets, and are used for collections that may change, while tuples are immutable, defined with parentheses, and are used for fixed, unchangeable collections."
      ],
      "metadata": {
        "id": "bhd8IxIyaOXu"
      }
    },
    {
      "cell_type": "markdown",
      "source": [
        "4. Describe how dictionaries store data.\n",
        "\n",
        "Ans :- Dictionaries in Python store data in key-value pairs using a hashing mechanism. Keys are hashed to determine their location in memory, ensuring quick lookups, insertions, and deletions. This hash table structure allows for average-case O(1) time complexity.\n",
        "\n"
      ],
      "metadata": {
        "id": "bajOS07EadxG"
      }
    },
    {
      "cell_type": "markdown",
      "source": [
        "5. Why might you use a set instead of a list in Python?\n",
        "Sets are useful when:\n",
        "\n",
        "Ans :- Uniqueness of elements is required (sets don’t allow duplicates).\n",
        "Fast membership checks are needed (in operation is O(1)).\n",
        "Order doesn’t matter, as sets are unordered.\n"
      ],
      "metadata": {
        "id": "YE80IaaLdcGy"
      }
    },
    {
      "cell_type": "markdown",
      "source": [
        "6. What is a string in Python, and how is it different from a list?\n",
        "A string is a sequence of Unicode characters.\n",
        "\n",
        "Ans :- Strings are immutable; their contents cannot be changed.\n",
        "Lists are mutable, so elements can be modified.\n",
        "Example:"
      ],
      "metadata": {
        "id": "UZpEBeA0d1MU"
      }
    },
    {
      "cell_type": "code",
      "source": [
        "string = \"hello\"\n",
        "string[0] = \"H\"  # Error\n",
        "list_data = [\"h\", \"e\", \"l\"]\n",
        "list_data[0] = \"H\"  # Works\n"
      ],
      "metadata": {
        "colab": {
          "base_uri": "https://localhost:8080/",
          "height": 193
        },
        "id": "rC8G6Z-VeDal",
        "outputId": "beecc1c9-b040-4c42-aa5d-e445e4d4610b"
      },
      "execution_count": 6,
      "outputs": [
        {
          "output_type": "error",
          "ename": "TypeError",
          "evalue": "'str' object does not support item assignment",
          "traceback": [
            "\u001b[0;31m---------------------------------------------------------------------------\u001b[0m",
            "\u001b[0;31mTypeError\u001b[0m                                 Traceback (most recent call last)",
            "\u001b[0;32m<ipython-input-6-b0a5fbcb60d5>\u001b[0m in \u001b[0;36m<cell line: 2>\u001b[0;34m()\u001b[0m\n\u001b[1;32m      1\u001b[0m \u001b[0mstring\u001b[0m \u001b[0;34m=\u001b[0m \u001b[0;34m\"hello\"\u001b[0m\u001b[0;34m\u001b[0m\u001b[0;34m\u001b[0m\u001b[0m\n\u001b[0;32m----> 2\u001b[0;31m \u001b[0mstring\u001b[0m\u001b[0;34m[\u001b[0m\u001b[0;36m0\u001b[0m\u001b[0;34m]\u001b[0m \u001b[0;34m=\u001b[0m \u001b[0;34m\"H\"\u001b[0m  \u001b[0;31m# Error\u001b[0m\u001b[0;34m\u001b[0m\u001b[0;34m\u001b[0m\u001b[0m\n\u001b[0m\u001b[1;32m      3\u001b[0m \u001b[0mlist_data\u001b[0m \u001b[0;34m=\u001b[0m \u001b[0;34m[\u001b[0m\u001b[0;34m\"h\"\u001b[0m\u001b[0;34m,\u001b[0m \u001b[0;34m\"e\"\u001b[0m\u001b[0;34m,\u001b[0m \u001b[0;34m\"l\"\u001b[0m\u001b[0;34m]\u001b[0m\u001b[0;34m\u001b[0m\u001b[0;34m\u001b[0m\u001b[0m\n\u001b[1;32m      4\u001b[0m \u001b[0mlist_data\u001b[0m\u001b[0;34m[\u001b[0m\u001b[0;36m0\u001b[0m\u001b[0;34m]\u001b[0m \u001b[0;34m=\u001b[0m \u001b[0;34m\"H\"\u001b[0m  \u001b[0;31m# Works\u001b[0m\u001b[0;34m\u001b[0m\u001b[0;34m\u001b[0m\u001b[0m\n",
            "\u001b[0;31mTypeError\u001b[0m: 'str' object does not support item assignment"
          ]
        }
      ]
    },
    {
      "cell_type": "markdown",
      "source": [
        "7. How do tuples ensure data integrity in Python?\n",
        "\n",
        "Ans :- Tuples are immutable, meaning their values cannot be changed after creation. This ensures data integrity, as the data remains constant and cannot be accidentally modified.\n",
        "\n"
      ],
      "metadata": {
        "id": "oQA8CW_AeJMF"
      }
    },
    {
      "cell_type": "markdown",
      "source": [
        "8. What is a hash table, and how does it relate to dictionaries in Python?\n",
        "\n",
        "Ans :- A hash table is a data structure that maps keys to values using a hashing function. Python dictionaries use a hash table internally to store key-value pairs for efficient lookups, insertions, and deletions.\n",
        "\n",
        "9. Can lists contain different data types in Python?\n",
        "\n",
        "Ans:- Yes, lists in Python can contain elements of any data type, including integers, strings, lists, tuples, and objects.\n",
        "\n",
        "Example:"
      ],
      "metadata": {
        "id": "Dx2fdaAqeTnN"
      }
    },
    {
      "cell_type": "code",
      "source": [
        "my_list = [1, \"hello\", [2, 3], (4, 5)]"
      ],
      "metadata": {
        "id": "5VrYc5omek4a"
      },
      "execution_count": 20,
      "outputs": []
    },
    {
      "cell_type": "markdown",
      "source": [
        "10. Explain why strings are immutable in Python.\n",
        "Strings are immutable to:\n",
        "\n",
        "Ans :-\n",
        "\n",
        "- Enhance security: Prevent unintended modifications.\n",
        "- Optimize performance: Immutable objects can be reused in memory.\n",
        "- Facilitate hashing: Strings can be used as dictionary keys because they are immutable."
      ],
      "metadata": {
        "id": "umU7Sxuuev4Y"
      }
    },
    {
      "cell_type": "markdown",
      "source": [
        "11. What advantages do dictionaries offer over lists for certain tasks?\n",
        "\n",
        "Ans :-\n",
        "- Fast lookups: Dictionaries provide O(1) average time complexity for lookups, whereas lists have O(n).\n",
        "- Key-value storage: Dictionaries allow for storing data in key-value pairs, which makes accessing values by keys very efficient.\n",
        "- Unordered flexibility: You can retrieve or update values without concern for the order of insertion.\n"
      ],
      "metadata": {
        "id": "Vkv62n5OfBXn"
      }
    },
    {
      "cell_type": "markdown",
      "source": [
        "12. Describe a scenario where using a tuple would be preferable over a list.\n",
        "\n",
        "Ans -\n",
        "-  When immutability is required: Use a tuple to store data that must remain constant, such as geographic coordinates (latitude, longitude).\n",
        "- As keys in dictionaries: Tuples can be used as dictionary keys because they are hashable, while lists cannot.\n",
        "\n",
        "Example:"
      ],
      "metadata": {
        "id": "d8NC4JlNfpAo"
      }
    },
    {
      "cell_type": "code",
      "source": [
        "locations={(37.7749, -122.4194): \"San Francisco\"}"
      ],
      "metadata": {
        "id": "E9OE1eDqfjPo"
      },
      "execution_count": 21,
      "outputs": []
    },
    {
      "cell_type": "markdown",
      "source": [
        "13. How do sets handle duplicate values in Python?\n",
        "\n",
        "Ans - Sets automatically eliminate duplicate values. When an element is added to a set, Python checks if it already exists; if it does, it will not be added again.\n",
        "\n",
        "Example:"
      ],
      "metadata": {
        "id": "J4Ec0AJufw6S"
      }
    },
    {
      "cell_type": "code",
      "source": [
        "my_set = {1, 2, 2, 3}\n",
        "print(my_set)"
      ],
      "metadata": {
        "colab": {
          "base_uri": "https://localhost:8080/"
        },
        "id": "DiKG9YGpgAyt",
        "outputId": "68585609-ff4a-4b0e-e7e2-418d7c03b4c0"
      },
      "execution_count": 13,
      "outputs": [
        {
          "output_type": "stream",
          "name": "stdout",
          "text": [
            "{1, 2, 3}\n"
          ]
        }
      ]
    },
    {
      "cell_type": "markdown",
      "source": [
        "14. How does the “in” keyword work differently for lists and dictionaries?\n",
        "\n",
        "Ans:-\n",
        "- In lists, in checks for the presence of a value, requiring O(n) time.\n",
        "- In dictionaries, in checks for the presence of a key using a hash table, requiring O(1) time on average.\n",
        "\n",
        "Example:"
      ],
      "metadata": {
        "id": "1kCcgGQYgFeJ"
      }
    },
    {
      "cell_type": "code",
      "source": [
        "my_list = [1, 2, 3]\n",
        "print(2 in my_list)  # Checks for a value.\n",
        "\n",
        "my_dict = {\"a\": 1, \"b\": 2}\n",
        "print(\"a\" in my_dict)  # Checks for a key."
      ],
      "metadata": {
        "colab": {
          "base_uri": "https://localhost:8080/"
        },
        "id": "D8UkFdYZgTTd",
        "outputId": "56e0054b-4861-4b4b-ca5e-f8a1cb33b260"
      },
      "execution_count": 14,
      "outputs": [
        {
          "output_type": "stream",
          "name": "stdout",
          "text": [
            "True\n",
            "True\n"
          ]
        }
      ]
    },
    {
      "cell_type": "markdown",
      "source": [
        "15. Can you modify the elements of a tuple? Explain why or why not.\n",
        "\n",
        "Ans - No, tuples are immutable. Once a tuple is created, its elements cannot be changed, added, or removed. This immutability ensures data integrity and allows tuples to be hashable.\n",
        "\n",
        "Example:"
      ],
      "metadata": {
        "id": "jhcMVETcgVJO"
      }
    },
    {
      "cell_type": "code",
      "source": [
        "my_tuple = (1, 2, 3)\n",
        "my_tuple[0] = 10  # Error: Tuples are immutable."
      ],
      "metadata": {
        "colab": {
          "base_uri": "https://localhost:8080/",
          "height": 158
        },
        "id": "nmWSMa-ogbJO",
        "outputId": "60df6460-0eea-4318-83f1-99b7ea2fcf92"
      },
      "execution_count": 15,
      "outputs": [
        {
          "output_type": "error",
          "ename": "TypeError",
          "evalue": "'tuple' object does not support item assignment",
          "traceback": [
            "\u001b[0;31m---------------------------------------------------------------------------\u001b[0m",
            "\u001b[0;31mTypeError\u001b[0m                                 Traceback (most recent call last)",
            "\u001b[0;32m<ipython-input-15-546f45257542>\u001b[0m in \u001b[0;36m<cell line: 2>\u001b[0;34m()\u001b[0m\n\u001b[1;32m      1\u001b[0m \u001b[0mmy_tuple\u001b[0m \u001b[0;34m=\u001b[0m \u001b[0;34m(\u001b[0m\u001b[0;36m1\u001b[0m\u001b[0;34m,\u001b[0m \u001b[0;36m2\u001b[0m\u001b[0;34m,\u001b[0m \u001b[0;36m3\u001b[0m\u001b[0;34m)\u001b[0m\u001b[0;34m\u001b[0m\u001b[0;34m\u001b[0m\u001b[0m\n\u001b[0;32m----> 2\u001b[0;31m \u001b[0mmy_tuple\u001b[0m\u001b[0;34m[\u001b[0m\u001b[0;36m0\u001b[0m\u001b[0;34m]\u001b[0m \u001b[0;34m=\u001b[0m \u001b[0;36m10\u001b[0m  \u001b[0;31m# Error: Tuples are immutable.\u001b[0m\u001b[0;34m\u001b[0m\u001b[0;34m\u001b[0m\u001b[0m\n\u001b[0m",
            "\u001b[0;31mTypeError\u001b[0m: 'tuple' object does not support item assignment"
          ]
        }
      ]
    },
    {
      "cell_type": "markdown",
      "source": [
        "16. What is a nested dictionary, and give an example of its use case?\n",
        "\n",
        "Ans :- A nested dictionary is a dictionary that contains other dictionaries as values.\n",
        "\n",
        "-- Use case: Representing hierarchical or structured data like student grades, where each student has a dictionary of subjects and scores.\n",
        "\n",
        "Example:"
      ],
      "metadata": {
        "id": "c6f0HJxOgfhN"
      }
    },
    {
      "cell_type": "code",
      "source": [
        "students = {\n",
        "    \"John\": {\"Math\": 90, \"Science\": 85},\n",
        "    \"Jane\": {\"Math\": 95, \"Science\": 80}}"
      ],
      "metadata": {
        "id": "d4GFh8segnzQ"
      },
      "execution_count": 17,
      "outputs": []
    },
    {
      "cell_type": "markdown",
      "source": [
        "17. Describe the time complexity of accessing elements in a dictionary.\n",
        "\n",
        "Ans :- Accessing elements in a dictionary has an average-case time complexity of O(1) because dictionaries use a hash table. However, in rare cases of hash collisions, the worst-case time complexity can be O(n).\n",
        "\n"
      ],
      "metadata": {
        "id": "oGOLjThsgtpu"
      }
    },
    {
      "cell_type": "markdown",
      "source": [
        "18. In what situations are lists preferred over dictionaries?\n",
        "Ans :-\n",
        "- When order matters: Lists maintain the order of insertion.\n",
        "- When data does not require key-value pairs.\n",
        "- For sequential data, such as numbers or strings.\n",
        "- When memory efficiency is a priority: Lists are simpler and use less memory.\n"
      ],
      "metadata": {
        "id": "A1DWl_mTg1e5"
      }
    },
    {
      "cell_type": "markdown",
      "source": [
        "19. Why are dictionaries considered unordered, and how does that affect data retrieval?\n",
        "\n",
        "Ans :-\n",
        "- Prior to Python 3.7, dictionaries were unordered, meaning the order of elements was not guaranteed. Since Python 3.7, dictionaries preserve insertion order.\n",
        "\n",
        "- Effect on retrieval: When unordered, you cannot rely on the sequence of elements, so retrieval is based solely on keys."
      ],
      "metadata": {
        "id": "EXWBinR1g_yW"
      }
    },
    {
      "cell_type": "markdown",
      "source": [
        "20. Explain the difference between a list and a dictionary in terms of data retrieval.\n",
        "\n",
        "Ans :-\n",
        "- Lists: Retrieval is done using indices (positions), requiring O(n) time for searching.\n",
        "- Dictionaries: Retrieval is done using keys, providing O(1) average time complexity due to hashing.\n",
        "\n",
        "Example:"
      ],
      "metadata": {
        "id": "pDcsp8hjhIuw"
      }
    },
    {
      "cell_type": "code",
      "source": [
        "# List retrieval\n",
        "my_list = [10, 20, 30]\n",
        "print(my_list[1])  # Access via index.\n",
        "\n",
        "# Dictionary retrieval\n",
        "my_dict = {\"a\": 10, \"b\": 20}\n",
        "print(my_dict[\"b\"])  # Access via key."
      ],
      "metadata": {
        "colab": {
          "base_uri": "https://localhost:8080/"
        },
        "id": "6uNN5AuohYIo",
        "outputId": "bd87bf41-3dd9-4371-ec37-83b2bc563a8a"
      },
      "execution_count": 18,
      "outputs": [
        {
          "output_type": "stream",
          "name": "stdout",
          "text": [
            "20\n",
            "20\n"
          ]
        }
      ]
    },
    {
      "cell_type": "markdown",
      "source": [
        "## Practical Questions"
      ],
      "metadata": {
        "id": "VoLVB7wWiCB1"
      }
    },
    {
      "cell_type": "markdown",
      "source": [
        "1. Write a code to create a string with your name and print it.\n",
        "\n",
        "Ans-"
      ],
      "metadata": {
        "id": "Zf-C9M5FiHDP"
      }
    },
    {
      "cell_type": "code",
      "source": [
        "name = \"Adarsh\"\n",
        "print(name)"
      ],
      "metadata": {
        "colab": {
          "base_uri": "https://localhost:8080/"
        },
        "id": "K7Pqrg1MiURl",
        "outputId": "0612cf63-8a51-4247-c3c2-67df3bb1d477"
      },
      "execution_count": 22,
      "outputs": [
        {
          "output_type": "stream",
          "name": "stdout",
          "text": [
            "Adarsh\n"
          ]
        }
      ]
    },
    {
      "cell_type": "markdown",
      "source": [
        "2. Write a code to find the length of the string \"Hello World\".\n",
        "\n",
        "Ans-"
      ],
      "metadata": {
        "id": "WZN0wISOibuX"
      }
    },
    {
      "cell_type": "code",
      "source": [
        "string = \"Hello World\"\n",
        "print(len(string))"
      ],
      "metadata": {
        "colab": {
          "base_uri": "https://localhost:8080/"
        },
        "id": "oUq6Yx3vijeM",
        "outputId": "d2ccae05-ff04-4caf-8b89-97c19f478b83"
      },
      "execution_count": 23,
      "outputs": [
        {
          "output_type": "stream",
          "name": "stdout",
          "text": [
            "11\n"
          ]
        }
      ]
    },
    {
      "cell_type": "markdown",
      "source": [
        "3. Write a code to slice the first 3 characters from the string \"Python Programming\".\n",
        "\n",
        "Ans -"
      ],
      "metadata": {
        "id": "zHf3pUr_irJK"
      }
    },
    {
      "cell_type": "code",
      "source": [
        "string = \"Python Programming\"\n",
        "print(string[:3])"
      ],
      "metadata": {
        "colab": {
          "base_uri": "https://localhost:8080/"
        },
        "id": "Ue4kDuuWix30",
        "outputId": "4b5a3e83-5066-42b7-fae3-be4418224bf1"
      },
      "execution_count": 24,
      "outputs": [
        {
          "output_type": "stream",
          "name": "stdout",
          "text": [
            "Pyt\n"
          ]
        }
      ]
    },
    {
      "cell_type": "markdown",
      "source": [
        "4. Write a code to convert the string \"hello\" to uppercase.\n",
        "\n",
        "\n",
        "Ans-"
      ],
      "metadata": {
        "id": "ASgoP-Pci358"
      }
    },
    {
      "cell_type": "code",
      "source": [
        "string = \"hello\"\n",
        "print(string.upper())"
      ],
      "metadata": {
        "colab": {
          "base_uri": "https://localhost:8080/"
        },
        "id": "MxIGx7itjAu2",
        "outputId": "44651326-e39e-4ebc-c7e3-cfe725da510e"
      },
      "execution_count": 25,
      "outputs": [
        {
          "output_type": "stream",
          "name": "stdout",
          "text": [
            "HELLO\n"
          ]
        }
      ]
    },
    {
      "cell_type": "markdown",
      "source": [
        "5. Write a code to replace the word \"apple\" with \"orange\" in the string \"I like apple\".\n",
        "\n",
        "Ans -"
      ],
      "metadata": {
        "id": "XhD9anxpjDWV"
      }
    },
    {
      "cell_type": "code",
      "source": [
        "string = \"I like apple\"\n",
        "new_string = string.replace(\"apple\", \"orange\")\n",
        "print(new_string)"
      ],
      "metadata": {
        "colab": {
          "base_uri": "https://localhost:8080/"
        },
        "id": "06uUa_TAjHeD",
        "outputId": "e47ff60a-195c-4524-bd7f-758460234af7"
      },
      "execution_count": 26,
      "outputs": [
        {
          "output_type": "stream",
          "name": "stdout",
          "text": [
            "I like orange\n"
          ]
        }
      ]
    },
    {
      "cell_type": "markdown",
      "source": [
        "6. Write a code to create a list with numbers 1 to 5 and print it.\n",
        "\n",
        "Ans -"
      ],
      "metadata": {
        "id": "DyoAOj8ujJ_Q"
      }
    },
    {
      "cell_type": "code",
      "source": [
        "numbers = [1, 2, 3, 4, 5]\n",
        "print(numbers)"
      ],
      "metadata": {
        "colab": {
          "base_uri": "https://localhost:8080/"
        },
        "id": "CmZ5_VHjjOdL",
        "outputId": "b29050bc-b57a-4dc2-a18d-9fffb79f9e7f"
      },
      "execution_count": 27,
      "outputs": [
        {
          "output_type": "stream",
          "name": "stdout",
          "text": [
            "[1, 2, 3, 4, 5]\n"
          ]
        }
      ]
    },
    {
      "cell_type": "markdown",
      "source": [
        "7. Write a code to append the number 10 to the list [1, 2, 3, 4].\n",
        "\n",
        "Ans -"
      ],
      "metadata": {
        "id": "te5NrVH5jRBy"
      }
    },
    {
      "cell_type": "code",
      "source": [
        "my_list = [1, 2, 3, 4]\n",
        "my_list.append(10)\n",
        "print(my_list)"
      ],
      "metadata": {
        "colab": {
          "base_uri": "https://localhost:8080/"
        },
        "id": "MBqofTGQjUdj",
        "outputId": "28e454f8-ae9a-4e81-ddb3-74f58f709ec8"
      },
      "execution_count": 28,
      "outputs": [
        {
          "output_type": "stream",
          "name": "stdout",
          "text": [
            "[1, 2, 3, 4, 10]\n"
          ]
        }
      ]
    },
    {
      "cell_type": "markdown",
      "source": [
        "8. Write a code to remove the number 3 from the list [1, 2, 3, 4, 5].\n",
        "\n",
        "Ans -"
      ],
      "metadata": {
        "id": "P7n1P_w5jXBJ"
      }
    },
    {
      "cell_type": "code",
      "source": [
        "my_list = [1, 2, 3, 4, 5]\n",
        "my_list.remove(3)\n",
        "print(my_list)"
      ],
      "metadata": {
        "colab": {
          "base_uri": "https://localhost:8080/"
        },
        "id": "HSx-4XOojcNs",
        "outputId": "81591c92-8cf2-4662-da0d-956193d54445"
      },
      "execution_count": 29,
      "outputs": [
        {
          "output_type": "stream",
          "name": "stdout",
          "text": [
            "[1, 2, 4, 5]\n"
          ]
        }
      ]
    },
    {
      "cell_type": "markdown",
      "source": [
        "9. Write a code to access the second element in the list ['a', 'b', 'c', 'd'].\n",
        "\n",
        "Ans -"
      ],
      "metadata": {
        "id": "duz4XdtzjdcS"
      }
    },
    {
      "cell_type": "code",
      "source": [
        "my_list = ['a', 'b', 'c', 'd']\n",
        "print(my_list[1])  # Indexing starts at 0"
      ],
      "metadata": {
        "colab": {
          "base_uri": "https://localhost:8080/"
        },
        "id": "lobpyyv4jhMt",
        "outputId": "7666b1cd-fb0b-49cc-ad26-96dafe8ac62e"
      },
      "execution_count": 31,
      "outputs": [
        {
          "output_type": "stream",
          "name": "stdout",
          "text": [
            "b\n"
          ]
        }
      ]
    },
    {
      "cell_type": "markdown",
      "source": [
        "10. Write a code to reverse the list [10, 20, 30, 40, 50].\n",
        "\n",
        "Ans -"
      ],
      "metadata": {
        "id": "aP6D0q6UjpSH"
      }
    },
    {
      "cell_type": "code",
      "source": [
        "my_list = [10, 20, 30, 40, 50]\n",
        "my_list.reverse()\n",
        "print(my_list)\n"
      ],
      "metadata": {
        "colab": {
          "base_uri": "https://localhost:8080/"
        },
        "id": "gqkf__g1jty6",
        "outputId": "7ee54fd8-fd0b-4952-c5cc-337af302358e"
      },
      "execution_count": 32,
      "outputs": [
        {
          "output_type": "stream",
          "name": "stdout",
          "text": [
            "[50, 40, 30, 20, 10]\n"
          ]
        }
      ]
    },
    {
      "cell_type": "markdown",
      "source": [
        "11. Write a code to create a tuple with the elements 10, 20, 30 and print it.\n",
        "\n",
        "Ans -"
      ],
      "metadata": {
        "id": "8L0XQ44Mjw0R"
      }
    },
    {
      "cell_type": "code",
      "source": [
        "t = (10, 20, 30)\n",
        "print(t)"
      ],
      "metadata": {
        "colab": {
          "base_uri": "https://localhost:8080/"
        },
        "id": "JD06Dfosn_Be",
        "outputId": "4072781b-e85b-49c3-b69e-7c98d454f8c7"
      },
      "execution_count": 33,
      "outputs": [
        {
          "output_type": "stream",
          "name": "stdout",
          "text": [
            "(10, 20, 30)\n"
          ]
        }
      ]
    },
    {
      "cell_type": "markdown",
      "source": [
        "12. Write a code to access the first element of the tuple ('apple', 'banana', 'cherry').\n",
        "\n",
        "Ans -"
      ],
      "metadata": {
        "id": "gQmj-H29oCmc"
      }
    },
    {
      "cell_type": "code",
      "source": [
        "t = ('apple', 'banana', 'cherry')\n",
        "print(t[0])"
      ],
      "metadata": {
        "colab": {
          "base_uri": "https://localhost:8080/"
        },
        "id": "qByRbB2HoHSu",
        "outputId": "09bff595-fcbb-4950-a4e9-af4d6fc1f8e8"
      },
      "execution_count": 34,
      "outputs": [
        {
          "output_type": "stream",
          "name": "stdout",
          "text": [
            "apple\n"
          ]
        }
      ]
    },
    {
      "cell_type": "markdown",
      "source": [
        "13. Write a code to count how many times the number 2 appears in the tuple (1, 2, 3, 2, 4, 2).\n",
        "\n",
        "Ans -"
      ],
      "metadata": {
        "id": "XITVDqT2oJWL"
      }
    },
    {
      "cell_type": "code",
      "source": [
        "t = (1, 2, 3, 2, 4, 2)\n",
        "count = t.count(2)\n",
        "print(count)"
      ],
      "metadata": {
        "colab": {
          "base_uri": "https://localhost:8080/"
        },
        "id": "UZ51isIToMK4",
        "outputId": "75b535c8-815e-405a-c734-dae1958a134b"
      },
      "execution_count": 35,
      "outputs": [
        {
          "output_type": "stream",
          "name": "stdout",
          "text": [
            "3\n"
          ]
        }
      ]
    },
    {
      "cell_type": "markdown",
      "source": [
        "14. Write a code to find the index of the element \"cat\" in the tuple ('dog', 'cat', 'rabbit').\n",
        "\n",
        "Ans -"
      ],
      "metadata": {
        "id": "wkww36-goOY1"
      }
    },
    {
      "cell_type": "code",
      "source": [
        "t = ('dog', 'cat', 'rabbit')\n",
        "index = t.index('cat')\n",
        "print(index)"
      ],
      "metadata": {
        "colab": {
          "base_uri": "https://localhost:8080/"
        },
        "id": "tWOgxy8eoSPb",
        "outputId": "88f61ac4-e749-412d-bee1-dde394b11c16"
      },
      "execution_count": 36,
      "outputs": [
        {
          "output_type": "stream",
          "name": "stdout",
          "text": [
            "1\n"
          ]
        }
      ]
    },
    {
      "cell_type": "markdown",
      "source": [
        "15. Write a code to check if the element \"banana\" is in the tuple ('apple', 'orange', 'banana').\n",
        "\n",
        "Ans -"
      ],
      "metadata": {
        "id": "9XZfqEf8oULn"
      }
    },
    {
      "cell_type": "code",
      "source": [
        "t = ('apple', 'orange', 'banana')\n",
        "is_present = 'banana' in t\n",
        "print(is_present)"
      ],
      "metadata": {
        "colab": {
          "base_uri": "https://localhost:8080/"
        },
        "id": "omL46VJdoZIi",
        "outputId": "f1971e43-c287-4b2a-b923-6da0970c4dba"
      },
      "execution_count": 37,
      "outputs": [
        {
          "output_type": "stream",
          "name": "stdout",
          "text": [
            "True\n"
          ]
        }
      ]
    },
    {
      "cell_type": "markdown",
      "source": [
        "16. Write a code to create a set with the elements 1, 2, 3, 4, 5 and print it.\n",
        "\n",
        "Ans -"
      ],
      "metadata": {
        "id": "5hKy5FjXoaX6"
      }
    },
    {
      "cell_type": "code",
      "source": [
        "s = {1, 2, 3, 4, 5}\n",
        "print(s)"
      ],
      "metadata": {
        "colab": {
          "base_uri": "https://localhost:8080/"
        },
        "id": "YIuIhUQFodV_",
        "outputId": "958d098d-5467-47d9-df74-f726ff4b6725"
      },
      "execution_count": 38,
      "outputs": [
        {
          "output_type": "stream",
          "name": "stdout",
          "text": [
            "{1, 2, 3, 4, 5}\n"
          ]
        }
      ]
    },
    {
      "cell_type": "markdown",
      "source": [
        "17. Write a code to add the element 6 to the set {1, 2, 3, 4}.\n",
        "\n",
        "Ans-"
      ],
      "metadata": {
        "id": "M0KfFkfOohMY"
      }
    },
    {
      "cell_type": "code",
      "source": [
        "s = {1, 2, 3, 4}\n",
        "s.add(6)\n",
        "print(s)"
      ],
      "metadata": {
        "colab": {
          "base_uri": "https://localhost:8080/"
        },
        "id": "6wqwqK0TokjN",
        "outputId": "4563c1eb-3113-42da-e046-830df837d713"
      },
      "execution_count": 39,
      "outputs": [
        {
          "output_type": "stream",
          "name": "stdout",
          "text": [
            "{1, 2, 3, 4, 6}\n"
          ]
        }
      ]
    },
    {
      "cell_type": "markdown",
      "source": [
        "18. Write a code to create a tuple with the elements 10, 20, 30 and print it.\n",
        "\n",
        "Ans -"
      ],
      "metadata": {
        "id": "CFLpgLeLomu9"
      }
    },
    {
      "cell_type": "code",
      "source": [
        "t = (10, 20, 30)\n",
        "print(t)"
      ],
      "metadata": {
        "colab": {
          "base_uri": "https://localhost:8080/"
        },
        "id": "JrfC8Qy8optI",
        "outputId": "1f3b0474-3117-4b58-8c39-b3f0d46f83aa"
      },
      "execution_count": 40,
      "outputs": [
        {
          "output_type": "stream",
          "name": "stdout",
          "text": [
            "(10, 20, 30)\n"
          ]
        }
      ]
    },
    {
      "cell_type": "markdown",
      "source": [
        "19. Write a code to access the first element of the tuple ('apple', 'banana', 'cherry').\n",
        "\n",
        "Ans -"
      ],
      "metadata": {
        "id": "h9XUTBQHosQ8"
      }
    },
    {
      "cell_type": "code",
      "source": [
        "t = ('apple', 'banana', 'cherry')\n",
        "print(t[0])"
      ],
      "metadata": {
        "colab": {
          "base_uri": "https://localhost:8080/"
        },
        "id": "8RWhH86SowoW",
        "outputId": "05211e4b-be27-4195-88cf-76d56ea13e37"
      },
      "execution_count": 41,
      "outputs": [
        {
          "output_type": "stream",
          "name": "stdout",
          "text": [
            "apple\n"
          ]
        }
      ]
    },
    {
      "cell_type": "markdown",
      "source": [
        "20. Write a code to count how many times the number 2 appears in the tuple (1, 2, 3, 2, 4, 2).\n",
        "\n",
        "Ans -"
      ],
      "metadata": {
        "id": "wZqKtKjUoyFb"
      }
    },
    {
      "cell_type": "code",
      "source": [
        "t = (1, 2, 3, 2, 4, 2)\n",
        "count = t.count(2)\n",
        "print(count)"
      ],
      "metadata": {
        "colab": {
          "base_uri": "https://localhost:8080/"
        },
        "id": "VbXwVLVPo0-S",
        "outputId": "415457b2-3c62-4b32-94bd-1ad6e6c2a6b9"
      },
      "execution_count": 42,
      "outputs": [
        {
          "output_type": "stream",
          "name": "stdout",
          "text": [
            "3\n"
          ]
        }
      ]
    },
    {
      "cell_type": "markdown",
      "source": [
        "21. Write a code to find the index of the element \"cat\" in the tuple ('dog', 'cat', 'rabbit').\n",
        "\n",
        "Ans -"
      ],
      "metadata": {
        "id": "FZp2Hg-co3cE"
      }
    },
    {
      "cell_type": "code",
      "source": [
        "t = ('dog', 'cat', 'rabbit')\n",
        "index = t.index('cat')\n",
        "print(index)"
      ],
      "metadata": {
        "colab": {
          "base_uri": "https://localhost:8080/"
        },
        "id": "x3BteVQIo6Qb",
        "outputId": "1e11a900-67b3-4681-a53f-6a5d2a95c9f3"
      },
      "execution_count": 43,
      "outputs": [
        {
          "output_type": "stream",
          "name": "stdout",
          "text": [
            "1\n"
          ]
        }
      ]
    },
    {
      "cell_type": "markdown",
      "source": [
        "22. Write a code to check if the element \"banana\" is in the tuple ('apple', 'orange', 'banana').\n",
        "\n",
        "Ans -"
      ],
      "metadata": {
        "id": "zkkIa9-xo8y0"
      }
    },
    {
      "cell_type": "code",
      "source": [
        "t = ('apple', 'orange', 'banana')\n",
        "is_present = 'banana' in t\n",
        "print(is_present)"
      ],
      "metadata": {
        "colab": {
          "base_uri": "https://localhost:8080/"
        },
        "id": "fHSR8oqnpCBL",
        "outputId": "cc5a2c6d-95ba-4500-b030-0e4b4f6949d0"
      },
      "execution_count": 44,
      "outputs": [
        {
          "output_type": "stream",
          "name": "stdout",
          "text": [
            "True\n"
          ]
        }
      ]
    },
    {
      "cell_type": "markdown",
      "source": [
        "23. Write a code to create a set with the elements 1, 2, 3, 4, 5 and print it.\n",
        "\n",
        "Ans -"
      ],
      "metadata": {
        "id": "5oR57G3YpDnV"
      }
    },
    {
      "cell_type": "code",
      "source": [
        "s = {1, 2, 3, 4, 5}\n",
        "print(s)"
      ],
      "metadata": {
        "colab": {
          "base_uri": "https://localhost:8080/"
        },
        "id": "rEuL23hbpGj_",
        "outputId": "979a74aa-3d9a-4dcf-cec8-0d9e1db2a3a0"
      },
      "execution_count": 45,
      "outputs": [
        {
          "output_type": "stream",
          "name": "stdout",
          "text": [
            "{1, 2, 3, 4, 5}\n"
          ]
        }
      ]
    },
    {
      "cell_type": "markdown",
      "source": [
        "24. Write a code to add the element 6 to the set {1, 2, 3, 4}.\n",
        "\n",
        "Ans -"
      ],
      "metadata": {
        "id": "Mip476UYpIxL"
      }
    },
    {
      "cell_type": "code",
      "source": [
        "s = {1, 2, 3, 4}\n",
        "s.add(6)\n",
        "print(s)"
      ],
      "metadata": {
        "colab": {
          "base_uri": "https://localhost:8080/"
        },
        "id": "8cXQAhpQpPW5",
        "outputId": "d917a9bc-7b70-4c98-c808-473e17dd915e"
      },
      "execution_count": 46,
      "outputs": [
        {
          "output_type": "stream",
          "name": "stdout",
          "text": [
            "{1, 2, 3, 4, 6}\n"
          ]
        }
      ]
    }
  ]
}